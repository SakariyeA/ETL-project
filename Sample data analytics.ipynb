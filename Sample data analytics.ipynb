{
 "cells": [
  {
   "cell_type": "code",
   "execution_count": 1,
   "metadata": {},
   "outputs": [],
   "source": [
    "import pandas as pd\n",
    "import numpy as np\n",
    "from datetime import datetime, timedelta\n",
    "\n",
    "# Generate sample data\n",
    "np.random.seed(0)\n",
    "dates = pd.date_range(start=\"2024-01-01\", end=\"2024-12-31\", freq='D')\n",
    "product_ids = [f'PROD{i:03d}' for i in range(1, 11)]\n",
    "stores = ['Store A', 'Store B', 'Store C']\n",
    "\n",
    "sales_data = {\n",
    "    \"OrderID\": [f'ORD{i:05d}' for i in range(1, 1001)],\n",
    "    \"Date\": np.random.choice(dates, 1000),\n",
    "    \"ProductID\": np.random.choice(product_ids, 1000),\n",
    "    \"Quantity\": np.random.randint(1, 5, size=1000),\n",
    "    \"Price\": np.round(np.random.uniform(10, 100, size=1000), 2),\n",
    "    \"Store\": np.random.choice(stores, 1000)\n",
    "}\n",
    "\n",
    "sales_df = pd.DataFrame(sales_data)"
   ]
  },
  {
   "cell_type": "code",
   "execution_count": 2,
   "metadata": {},
   "outputs": [],
   "source": [
    "customer_ids = [f'CUST{i:03d}' for i in range(1, 301)]\n",
    "genders = ['Male', 'Female']\n",
    "regions = ['North', 'South', 'East', 'West']\n",
    "\n",
    "customer_data = {\n",
    "    \"CustomerID\": customer_ids,\n",
    "    \"Age\": np.random.randint(18, 70, size=300),\n",
    "    \"Gender\": np.random.choice(genders, 300),\n",
    "    \"Region\": np.random.choice(regions, 300)\n",
    "}\n",
    "\n",
    "customers_df = pd.DataFrame(customer_data)"
   ]
  },
  {
   "cell_type": "code",
   "execution_count": 3,
   "metadata": {},
   "outputs": [],
   "source": [
    "categories = ['Electronics', 'Apparel', 'Grocery']\n",
    "brands = ['Brand A', 'Brand B', 'Brand C']\n",
    "\n",
    "product_data = {\n",
    "    \"ProductID\": product_ids,\n",
    "    \"Category\": np.random.choice(categories, 10),\n",
    "    \"Brand\": np.random.choice(brands, 10)\n",
    "}\n",
    "\n",
    "products_df = pd.DataFrame(product_data)"
   ]
  },
  {
   "cell_type": "code",
   "execution_count": 4,
   "metadata": {},
   "outputs": [],
   "source": [
    "# Save sales_df to a CSV file\n",
    "sales_df.to_csv(\"sales_data.csv\", index=False)\n",
    "\n",
    "# Save customers_df to a CSV file\n",
    "customers_df.to_csv(\"customers_data.csv\", index=False)\n",
    "\n",
    "# Save products_df to a CSV file\n",
    "products_df.to_csv(\"products_data.csv\", index=False)\n"
   ]
  }
 ],
 "metadata": {
  "kernelspec": {
   "display_name": "Python 3",
   "language": "python",
   "name": "python3"
  },
  "language_info": {
   "codemirror_mode": {
    "name": "ipython",
    "version": 3
   },
   "file_extension": ".py",
   "mimetype": "text/x-python",
   "name": "python",
   "nbconvert_exporter": "python",
   "pygments_lexer": "ipython3",
   "version": "3.12.4"
  }
 },
 "nbformat": 4,
 "nbformat_minor": 2
}
